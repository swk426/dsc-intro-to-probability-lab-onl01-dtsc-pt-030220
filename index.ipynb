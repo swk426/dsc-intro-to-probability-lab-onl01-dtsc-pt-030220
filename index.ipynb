{
 "cells": [
  {
   "cell_type": "markdown",
   "metadata": {},
   "source": [
    "# Introduction to Probability - Lab\n",
    "\n",
    "## Introduction\n",
    "\n",
    "Now that you know what sets are, we can go on and work with two sets that are of key importance when talking about probability: the event space and the sample space. These two concepts are foundational for calculating probabilities when assuming each event in the event space *has the same probability of happening*. Typical examples are rolling a dice (if the dice is \"fair\", the chance of throwing each number between 1 and 6 is 1/6) and flipping a coin (1/2 heads vs tails). You'll get a better sense of how all of this works in this lab.\n",
    "\n",
    "## Objectives\n",
    "\n",
    "You will be able to:\n",
    "\n",
    "* Calculate probabilities by using relative frequency of outcomes to event space\n",
    "* Use Python to demonstrate the axioms of probability\n",
    "\n",
    "##  Sample space, event space and the law of relative frequency\n",
    "\n",
    "#### a. Let's throw a dice once\n",
    "\n",
    "First, create a set `roll_dice` that holds the sample space of rolling a 6-sided dice once."
   ]
  },
  {
   "cell_type": "code",
   "execution_count": 1,
   "metadata": {},
   "outputs": [],
   "source": [
    "roll_dice = set([1,2,3,4,5,6])"
   ]
  },
  {
   "cell_type": "markdown",
   "metadata": {},
   "source": [
    "Now, let's assume that the event space is defined by \"throwing a number higher than 4\". This means that we consider the outcome \"successful\" if a 5 or a 6 is thrown. Create a set that holds these values."
   ]
  },
  {
   "cell_type": "code",
   "execution_count": 5,
   "metadata": {},
   "outputs": [],
   "source": [
    "event = [i for i in roll_dice if i > 4]"
   ]
  },
  {
   "cell_type": "code",
   "execution_count": 6,
   "metadata": {},
   "outputs": [
    {
     "data": {
      "text/plain": [
       "[5, 6]"
      ]
     },
     "execution_count": 6,
     "metadata": {},
     "output_type": "execute_result"
    }
   ],
   "source": [
    "event"
   ]
  },
  {
   "cell_type": "markdown",
   "metadata": {},
   "source": [
    "Now use the formula $P(E) = \\dfrac{|E|}{|S|}$ (This formula is called \"Laplace's formula\" and strongly related to the law of relative frequency) to calculate the probability."
   ]
  },
  {
   "cell_type": "code",
   "execution_count": 9,
   "metadata": {},
   "outputs": [
    {
     "data": {
      "text/plain": [
       "0.3333333333333333"
      ]
     },
     "execution_count": 9,
     "metadata": {},
     "output_type": "execute_result"
    }
   ],
   "source": [
    "prob_5_6 = len(event) /len(roll_dice)\n",
    "prob_5_6  # 0.3333333333333333"
   ]
  },
  {
   "cell_type": "markdown",
   "metadata": {},
   "source": [
    "Using this formula, it should be clear that the answer is 1/3 or 0.3333....  \n",
    "\n",
    "#### b. Now, let's simulate rolling dice to see how the law of relative frequency works.\n",
    "\n",
    "The law of relative frequency can be used to prove certain probabilities. But how does this work exactly? You're about to find out!\n",
    "\n",
    "$$P(E) = \\lim_{n\\rightarrow\\infty} \\dfrac{S{(n)}}{n}$$\n",
    "\n",
    "As you can see in the formula, the law states that when repeating an experiment $n$ times, where $n$ is very big, and you divide the number of \"good\" outcomes by the sample space (here we call it event E), you get to the probability of the event E. It should be clear that we get a more accurate number for P(E) when $n$ grows.\n",
    "\n",
    "Let's see how this works. First, let's randomly generate values between 1 and 6. You can use `numpy` (imported as `np`) to generate random integers between 1 and 6 by setting the correct arguments. The `np.random` module is a very useful tool for this. We helped you with the code here, but you'll get more practice and a thorough explanation later on!"
   ]
  },
  {
   "cell_type": "code",
   "execution_count": 12,
   "metadata": {},
   "outputs": [
    {
     "data": {
      "text/plain": [
       "2"
      ]
     },
     "execution_count": 12,
     "metadata": {},
     "output_type": "execute_result"
    }
   ],
   "source": [
    "import numpy as np\n",
    "np.random.randint(1,7) # you will get a random value between 1 and 6. See how it changes when you rerun"
   ]
  },
  {
   "cell_type": "markdown",
   "metadata": {},
   "source": [
    "Now, let's repeat this experiment 10 times, then 1000 times, then 1 million times, then 100 million times. \n",
    "You can do this by specifying the argument `size` within the numpy function used above. Store the values in the pre-defined variables below."
   ]
  },
  {
   "cell_type": "code",
   "execution_count": 13,
   "metadata": {},
   "outputs": [],
   "source": [
    "np.random.seed(12345) # to ensure reproducibility of results\n",
    "\n",
    "dice_10 = np.random.randint(1,7,size= 10)\n",
    "dice_1k = np.random.randint(1,7,size= 1000)\n",
    "dice_1m = np.random.randint(1,7,size=1000000)\n",
    "dice_100m = np.random.randint(1,7,size=100000000)"
   ]
  },
  {
   "cell_type": "markdown",
   "metadata": {},
   "source": [
    "Next, let's count the number of \"events\". Remember that an event here is defined as throwing a 5 or a 6. Store them in the values below."
   ]
  },
  {
   "cell_type": "code",
   "execution_count": 14,
   "metadata": {},
   "outputs": [],
   "source": [
    "event_10 = [i for i in dice_10 if i > 4]\n",
    "event_1k = [i for i in dice_1k if i > 4]\n",
    "event_1m = [i for i in dice_1m if i > 4]\n",
    "event_100m = [i for i in dice_100m if i > 4]"
   ]
  },
  {
   "cell_type": "code",
   "execution_count": 73,
   "metadata": {},
   "outputs": [],
   "source": [
    "#answer\n",
    "answer_10 = np.sum(dice_10 > 4)\n",
    "answer_1k = np.sum(dice_1k > 4)\n",
    "answer_1m = np.sum(dice_1m > 4)\n",
    "answer_100m = np.sum(dice_100m > 4)"
   ]
  },
  {
   "cell_type": "code",
   "execution_count": 78,
   "metadata": {},
   "outputs": [
    {
     "data": {
      "text/plain": [
       "0.33329752"
      ]
     },
     "execution_count": 78,
     "metadata": {},
     "output_type": "execute_result"
    }
   ],
   "source": [
    "answer_100m/100000000"
   ]
  },
  {
   "cell_type": "markdown",
   "metadata": {},
   "source": [
    "Next, you'll divide the number of events for each $n$ by the respective values for $n$. What do you see?"
   ]
  },
  {
   "cell_type": "code",
   "execution_count": 15,
   "metadata": {},
   "outputs": [
    {
     "data": {
      "text/plain": [
       "(0.5, 0.331, 0.333657, 0.33329752)"
      ]
     },
     "execution_count": 15,
     "metadata": {},
     "output_type": "execute_result"
    }
   ],
   "source": [
    "prob_10 = len(event_10)/len(dice_10)\n",
    "prob_1k = len(event_1k)/len(dice_1k)\n",
    "prob_1m = len(event_1m)/len(dice_1m)\n",
    "prob_100m = len(event_100m)/len(dice_100m)\n",
    "prob_10, prob_1k, prob_1m, prob_100m  # 0.5 0.331 0.333657 0.33329752"
   ]
  },
  {
   "cell_type": "markdown",
   "metadata": {},
   "source": [
    "You see that the probability converges to 0.3333333... for higher values of $n$. \n",
    "\n",
    "##  The Probability Axioms\n",
    "\n",
    "You're working at the United Nations, and want to get a better sense of the world population. \n",
    "\n",
    "You come across some numbers and find the list of probabilities of being an inhabitant for each of the seven continents (rounded up to 3 digits):\n",
    "\n",
    "- P(Africa) = 0.161\n",
    "- P(Antarctica) = 0.000\n",
    "- P(Asia) = 0.598\n",
    "- P(Europe) = 0.10\n",
    "- P(North-America) = 0.079\n",
    "- P(Australia) = 0.005\n",
    "- P(South-America) = 0.057\n",
    "\n",
    "store these values using the variable names below:"
   ]
  },
  {
   "cell_type": "code",
   "execution_count": 16,
   "metadata": {},
   "outputs": [],
   "source": [
    "P_afr = 0.161\n",
    "P_ant = 0.000\n",
    "P_as = 0.598\n",
    "P_eur = 0.10\n",
    "P_na = 0.079\n",
    "P_aus = 0.005\n",
    "P_sa = 0.057"
   ]
  },
  {
   "cell_type": "markdown",
   "metadata": {},
   "source": [
    "Now create the sample space set names `continents`. Store the sample space in a numpy array."
   ]
  },
  {
   "cell_type": "code",
   "execution_count": 17,
   "metadata": {},
   "outputs": [
    {
     "name": "stdout",
     "output_type": "stream",
     "text": [
      "[0.161 0.    0.598 0.1   0.079 0.005 0.057]\n"
     ]
    }
   ],
   "source": [
    "continents = np.array([P_afr, P_ant, P_as, P_eur, P_na, P_aus, P_sa])\n",
    "print(continents)"
   ]
  },
  {
   "cell_type": "markdown",
   "metadata": {},
   "source": [
    "We want to make sure that the three probability axioms are fulfilled because they assure us that $(\\Omega,E,P)$ is a **probability space**:\n",
    "\n",
    "- if we have a sample space $S$ (or $\\Omega$)\n",
    "- if we have an event space $E$ and a probability measure $P$, \n",
    "- **and** the three probability axioms introduced in the previous lesson are fulfilled, \n",
    "\n",
    "The third axiom is fairly ad hoc, and you will basically have to deduce from the context whether individual events are independent. It is fairly straightforward, however, that people cannot be inhabitants of two continents at the same time, so for now, we will assume that we're good for axiom three.\n",
    "\n",
    "However, we can use the numpy array `continents` to verify if axiom 1 and 2 are fulfilled. Create a function `check_axioms` with a single input, `sample_space`, that returns the message \"We're good!\" if both axiom 1 and 2 are fulfilled, and \"Not quite!\" if that's not the case."
   ]
  },
  {
   "cell_type": "code",
   "execution_count": 79,
   "metadata": {},
   "outputs": [],
   "source": [
    "def check_axioms(sample_space):\n",
    "    axiom1a = [i for i in sample_space if i < 0]\n",
    "    axiom1b = [i for i in sample_space if i >= 1]\n",
    "    axiom2 = sample_space.sum()\n",
    "\n",
    "    if len(axiom1a)+len(axiom1b) > 0: return print(\"Not quite!\")\n",
    "    elif axiom2 != 1: return print(\"Not quite!\")\n",
    "    else:return print(\"We're good!\")\n",
    "    "
   ]
  },
  {
   "cell_type": "markdown",
   "metadata": {},
   "source": [
    "Now test your newly created function out on the sample space `continents`:"
   ]
  },
  {
   "cell_type": "code",
   "execution_count": 80,
   "metadata": {},
   "outputs": [
    {
     "name": "stdout",
     "output_type": "stream",
     "text": [
      "We're good!\n"
     ]
    }
   ],
   "source": [
    "check_axioms(continents)"
   ]
  },
  {
   "cell_type": "markdown",
   "metadata": {},
   "source": [
    "You want to make sure your test returns `\"Not quite!\"` for the following numpy arrays. Go ahead and test away!"
   ]
  },
  {
   "cell_type": "code",
   "execution_count": 81,
   "metadata": {},
   "outputs": [],
   "source": [
    "test_1 = np.array([0.05, 0.2, 0.3, 1.01])\n",
    "test_2 = np.array([0.05, 0.5, 0.6, -0.15])\n",
    "test_3 = np.array([0.043,0.05,.02,0.3,0.2])"
   ]
  },
  {
   "cell_type": "code",
   "execution_count": 82,
   "metadata": {},
   "outputs": [
    {
     "name": "stdout",
     "output_type": "stream",
     "text": [
      "Not quite!\n",
      "Not quite!\n",
      "Not quite!\n"
     ]
    }
   ],
   "source": [
    "check_axioms(test_1)\n",
    "check_axioms(test_2)\n",
    "check_axioms(test_3)"
   ]
  },
  {
   "cell_type": "markdown",
   "metadata": {},
   "source": [
    "Great! We tested it and seems like our set `continents` is a true probability space.\n",
    "\n",
    "## Some more practice on the sample and event spaces\n",
    "\n",
    "In this exercise, we'll look at possible outcomes when throwing a dice twice. For your convenience, we created the NumPy array below.\n",
    "\n",
    "Next, we'll compute a couple or probabilities associated with doing this."
   ]
  },
  {
   "cell_type": "code",
   "execution_count": 22,
   "metadata": {},
   "outputs": [],
   "source": [
    "import numpy as np\n",
    "sample_dice = np.array([(1, 1), (1, 2), (1, 3), (1, 4), (1, 5), (1, 6),\n",
    "              (2, 1), (2, 2), (2, 3), (2, 4), (2, 5), (2, 6),\n",
    "              (3, 1), (3, 2), (3, 3), (3, 4), (3, 5), (3, 6),\n",
    "              (4, 1), (4, 2), (4, 3), (4, 4), (4, 5), (4, 6),\n",
    "              (5, 1), (5, 2), (5, 3), (5, 4), (5, 5), (5, 6),\n",
    "              (6, 1), (6, 2), (6, 3), (6, 4), (6, 5), (6, 6)])"
   ]
  },
  {
   "cell_type": "markdown",
   "metadata": {},
   "source": [
    "Look at the shape of the array to reassure we haven't made any mistakes."
   ]
  },
  {
   "cell_type": "code",
   "execution_count": 26,
   "metadata": {},
   "outputs": [
    {
     "data": {
      "text/plain": [
       "(36, 2)"
      ]
     },
     "execution_count": 26,
     "metadata": {},
     "output_type": "execute_result"
    }
   ],
   "source": [
    "sample_dice.shape # should be equal to (36,2)"
   ]
  },
  {
   "cell_type": "markdown",
   "metadata": {},
   "source": [
    "Use Python to obtain the following probabilities:\n",
    "\n",
    "#### a. What is the probability of throwing a 5 at least once?\n",
    "\n",
    "First, use `sample_dice` to get \"True\" values for each time a 5 occurs."
   ]
  },
  {
   "cell_type": "code",
   "execution_count": 51,
   "metadata": {},
   "outputs": [
    {
     "data": {
      "text/plain": [
       "(36, 2)"
      ]
     },
     "execution_count": 51,
     "metadata": {},
     "output_type": "execute_result"
    }
   ],
   "source": [
    "def test_5(sample):\n",
    "    test_result = [True if x==5 else False for x in sample]\n",
    "    return test_result\n",
    "set_5 = np.array([test_5(pair) for pair in sample_dice])\n",
    "set_5.shape# Your output should be an array of shape (36, 2) with booleans instead of numbers"
   ]
  },
  {
   "cell_type": "code",
   "execution_count": 83,
   "metadata": {},
   "outputs": [
    {
     "data": {
      "text/plain": [
       "array([[False, False],\n",
       "       [False, False],\n",
       "       [False, False],\n",
       "       [False, False],\n",
       "       [False,  True],\n",
       "       [False, False],\n",
       "       [False, False],\n",
       "       [False, False],\n",
       "       [False, False],\n",
       "       [False, False],\n",
       "       [False,  True],\n",
       "       [False, False],\n",
       "       [False, False],\n",
       "       [False, False],\n",
       "       [False, False],\n",
       "       [False, False],\n",
       "       [False,  True],\n",
       "       [False, False],\n",
       "       [False, False],\n",
       "       [False, False],\n",
       "       [False, False],\n",
       "       [False, False],\n",
       "       [False,  True],\n",
       "       [False, False],\n",
       "       [ True, False],\n",
       "       [ True, False],\n",
       "       [ True, False],\n",
       "       [ True, False],\n",
       "       [ True,  True],\n",
       "       [ True, False],\n",
       "       [False, False],\n",
       "       [False, False],\n",
       "       [False, False],\n",
       "       [False, False],\n",
       "       [False,  True],\n",
       "       [False, False]])"
      ]
     },
     "execution_count": 83,
     "metadata": {},
     "output_type": "execute_result"
    }
   ],
   "source": [
    "answer_set_5 = sample_dice ==5\n",
    "answer_set_5"
   ]
  },
  {
   "cell_type": "markdown",
   "metadata": {},
   "source": [
    "Next, make sure that you get a value `True` for each pair where at least one 5 was thrown."
   ]
  },
  {
   "cell_type": "code",
   "execution_count": 52,
   "metadata": {},
   "outputs": [
    {
     "name": "stdout",
     "output_type": "stream",
     "text": [
      "[False False False False  True False False False False False  True False\n",
      " False False False False  True False False False False False  True False\n",
      "  True  True  True  True  True  True False False False False  True False]\n"
     ]
    }
   ],
   "source": [
    "true_5 = np.array([np.any(sample) for sample in set_5]) # Your output should be an array of shape (36,) and have booleans. \n",
    "              # You should obtain \"True\" if at least one of the previous pairs was true. \n",
    "              # Hint: Use np.any()\n",
    "print(true_5)"
   ]
  },
  {
   "cell_type": "code",
   "execution_count": 86,
   "metadata": {},
   "outputs": [
    {
     "data": {
      "text/plain": [
       "array([False, False, False, False,  True, False, False, False, False,\n",
       "       False,  True, False, False, False, False, False,  True, False,\n",
       "       False, False, False, False,  True, False,  True,  True,  True,\n",
       "        True,  True,  True, False, False, False, False,  True, False])"
      ]
     },
     "execution_count": 86,
     "metadata": {},
     "output_type": "execute_result"
    }
   ],
   "source": [
    "answer_true_5 = np.any(answer_set_5,axis=1)\n",
    "answer_true_5"
   ]
  },
  {
   "cell_type": "markdown",
   "metadata": {},
   "source": [
    "Applying the `sum()` function to this result you can get to the total number of items in the event space. Divide this number by the total number in the sample space to obtain the probability of throwing a 5 at least once."
   ]
  },
  {
   "cell_type": "code",
   "execution_count": 54,
   "metadata": {},
   "outputs": [
    {
     "data": {
      "text/plain": [
       "11"
      ]
     },
     "execution_count": 54,
     "metadata": {},
     "output_type": "execute_result"
    }
   ],
   "source": [
    "true_5.sum()"
   ]
  },
  {
   "cell_type": "code",
   "execution_count": 53,
   "metadata": {},
   "outputs": [
    {
     "name": "stdout",
     "output_type": "stream",
     "text": [
      "0.3055555555555556\n"
     ]
    }
   ],
   "source": [
    "prob_5 = true_5.sum()/len(sample_dice)\n",
    "print(prob_5)"
   ]
  },
  {
   "cell_type": "markdown",
   "metadata": {},
   "source": [
    "#### b. What is the probability of throwing a 5 or 6 at least once?"
   ]
  },
  {
   "cell_type": "code",
   "execution_count": 90,
   "metadata": {},
   "outputs": [],
   "source": [
    "set_5 = set([(1,5),(2,5),(3,5),(4,5),(5,1),(5,2),(5,3),(5,4),(5,5),(5,6),(6,5)])\n",
    "set_6 = set([(1,6),(2,6),(3,6),(4,6),(5,6),(6,1),(6,2),(6,3),(6,4),(6,5),(6,6)])"
   ]
  },
  {
   "cell_type": "code",
   "execution_count": 93,
   "metadata": {},
   "outputs": [],
   "source": [
    "answer_set_5 = sample_dice ==5\n",
    "answer_set_6 = sample_dice ==6"
   ]
  },
  {
   "cell_type": "code",
   "execution_count": 91,
   "metadata": {
    "scrolled": true
   },
   "outputs": [
    {
     "data": {
      "text/plain": [
       "{(1, 5),\n",
       " (1, 6),\n",
       " (2, 5),\n",
       " (2, 6),\n",
       " (3, 5),\n",
       " (3, 6),\n",
       " (4, 5),\n",
       " (4, 6),\n",
       " (5, 1),\n",
       " (5, 2),\n",
       " (5, 3),\n",
       " (5, 4),\n",
       " (5, 5),\n",
       " (5, 6),\n",
       " (6, 1),\n",
       " (6, 2),\n",
       " (6, 3),\n",
       " (6, 4),\n",
       " (6, 5),\n",
       " (6, 6)}"
      ]
     },
     "execution_count": 91,
     "metadata": {},
     "output_type": "execute_result"
    }
   ],
   "source": [
    "set_5_6 = set_5 | set_6\n",
    "set_5_6"
   ]
  },
  {
   "cell_type": "code",
   "execution_count": 94,
   "metadata": {},
   "outputs": [
    {
     "data": {
      "text/plain": [
       "array([[False, False],\n",
       "       [False, False],\n",
       "       [False, False],\n",
       "       [False, False],\n",
       "       [False,  True],\n",
       "       [False,  True],\n",
       "       [False, False],\n",
       "       [False, False],\n",
       "       [False, False],\n",
       "       [False, False],\n",
       "       [False,  True],\n",
       "       [False,  True],\n",
       "       [False, False],\n",
       "       [False, False],\n",
       "       [False, False],\n",
       "       [False, False],\n",
       "       [False,  True],\n",
       "       [False,  True],\n",
       "       [False, False],\n",
       "       [False, False],\n",
       "       [False, False],\n",
       "       [False, False],\n",
       "       [False,  True],\n",
       "       [False,  True],\n",
       "       [ True, False],\n",
       "       [ True, False],\n",
       "       [ True, False],\n",
       "       [ True, False],\n",
       "       [ True,  True],\n",
       "       [ True,  True],\n",
       "       [ True, False],\n",
       "       [ True, False],\n",
       "       [ True, False],\n",
       "       [ True, False],\n",
       "       [ True,  True],\n",
       "       [ True,  True]])"
      ]
     },
     "execution_count": 94,
     "metadata": {},
     "output_type": "execute_result"
    }
   ],
   "source": [
    "answer_set_5_6 = (answer_set_5 + answer_set_6)\n",
    "answer_set_5_6"
   ]
  },
  {
   "cell_type": "code",
   "execution_count": 92,
   "metadata": {},
   "outputs": [
    {
     "name": "stdout",
     "output_type": "stream",
     "text": [
      "{(5, 6), (6, 5)}\n"
     ]
    }
   ],
   "source": [
    "set_any_5_6 = set_5 & set_6\n",
    "print(set_any_5_6) "
   ]
  },
  {
   "cell_type": "code",
   "execution_count": 95,
   "metadata": {},
   "outputs": [
    {
     "name": "stdout",
     "output_type": "stream",
     "text": [
      "[False False False False  True  True False False False False  True  True\n",
      " False False False False  True  True False False False False  True  True\n",
      "  True  True  True  True  True  True  True  True  True  True  True  True]\n"
     ]
    }
   ],
   "source": [
    "answer_set_any_5_6 = np.any(answer_set_5_6,axis=1)\n",
    "print(answer_set_any_5_6)\n"
   ]
  },
  {
   "cell_type": "code",
   "execution_count": 60,
   "metadata": {
    "scrolled": true
   },
   "outputs": [
    {
     "name": "stdout",
     "output_type": "stream",
     "text": [
      "0.5555555555555556\n"
     ]
    }
   ],
   "source": [
    "prob_5_6 = len(set_5_6)/len(sample_dice)\n",
    "print(prob_5_6)"
   ]
  },
  {
   "cell_type": "code",
   "execution_count": 97,
   "metadata": {},
   "outputs": [
    {
     "data": {
      "text/plain": [
       "0.5555555555555556"
      ]
     },
     "execution_count": 97,
     "metadata": {},
     "output_type": "execute_result"
    }
   ],
   "source": [
    "answer_prob_5_6 = answer_set_any_5_6.sum()/len(sample_dice)\n",
    "answer_prob_5_6"
   ]
  },
  {
   "cell_type": "markdown",
   "metadata": {},
   "source": [
    "#### c. What is the probability of the outcome having a sum of exactly 8?"
   ]
  },
  {
   "cell_type": "code",
   "execution_count": 71,
   "metadata": {},
   "outputs": [],
   "source": [
    "sum_dice = [sample.sum() for sample in sample_dice]\n",
    "sum_8 = [sample for sample in sum_dice if sample ==8]"
   ]
  },
  {
   "cell_type": "code",
   "execution_count": 98,
   "metadata": {},
   "outputs": [],
   "source": [
    "answer_sum_dice = np.sum(sample_dice, axis=1)\n",
    "answer_sum_8 = answer_sum_dice == 8"
   ]
  },
  {
   "cell_type": "code",
   "execution_count": 72,
   "metadata": {},
   "outputs": [
    {
     "name": "stdout",
     "output_type": "stream",
     "text": [
      "0.1388888888888889\n"
     ]
    }
   ],
   "source": [
    "prob_sum_8 = len(sum_8)/len(sum_dice)\n",
    "print(prob_sum_8)"
   ]
  },
  {
   "cell_type": "code",
   "execution_count": 100,
   "metadata": {},
   "outputs": [
    {
     "name": "stdout",
     "output_type": "stream",
     "text": [
      "0.1388888888888889\n"
     ]
    }
   ],
   "source": [
    "answer_pro_sum_8 = answer_sum_8.sum()/len(sum_dice)\n",
    "print(answer_pro_sum_8)"
   ]
  },
  {
   "cell_type": "markdown",
   "metadata": {},
   "source": [
    "## Now let's try creating your own event space!\n",
    "\n",
    "A teaching assistant is holding office hours so students can make appointments. She has 6 appointments scheduled today, 3 by male students, and 3 by female students. \n",
    "\n",
    "Create a NumPy array of all possible orders of three male and three female students in which the teaching assistant can see students by appointment (please note: only consider gender when creating event space). Create this NumPy array in the same way as we did in the \"throwing a dice twice\" exercise. It will be quite a bit of typing, as your resulting NumPy array will have a shape (20,6)!"
   ]
  },
  {
   "cell_type": "code",
   "execution_count": 104,
   "metadata": {},
   "outputs": [],
   "source": [
    "m = \"M\"\n",
    "f = \"F\"\n",
    "sample_mf= np.array([(m,m,m,f,f,f),(m,m,f,m,f,f),(m,m,f,f,m,f),(m,m,f,f,f,m),\n",
    "                    (m,f,m,m,f,f),(m,f,m,f,m,f),(m,f,m,f,f,m),(m,f,f,m,m,f),\n",
    "                    (m,f,f,m,f,m),(m,f,f,f,m,m),(f,f,f,m,m,m),(f,f,m,f,m,m),\n",
    "                    (f,f,m,m,f,m),(f,f,m,m,m,f),(f,m,f,f,m,m),(f,m,f,m,f,m),\n",
    "                    (f,m,f,m,m,f),(f,m,m,f,f,m),(f,m,m,f,m,f),(f,m,m,m,f,f)])"
   ]
  },
  {
   "cell_type": "code",
   "execution_count": 105,
   "metadata": {},
   "outputs": [
    {
     "data": {
      "text/plain": [
       "(20, 6)"
      ]
     },
     "execution_count": 105,
     "metadata": {},
     "output_type": "execute_result"
    }
   ],
   "source": [
    "sample_mf.shape"
   ]
  },
  {
   "cell_type": "code",
   "execution_count": 106,
   "metadata": {},
   "outputs": [
    {
     "name": "stdout",
     "output_type": "stream",
     "text": [
      "20\n"
     ]
    }
   ],
   "source": [
    "sample_length= len(sample_mf)\n",
    "print(sample_length)"
   ]
  },
  {
   "cell_type": "markdown",
   "metadata": {},
   "source": [
    "#### 1. Calculate the probability that at least 2 out of the first 3 appointments are with female students\n",
    "\n",
    "First, select the first 3 appointment slots and check for \"F\"."
   ]
  },
  {
   "cell_type": "code",
   "execution_count": 113,
   "metadata": {},
   "outputs": [
    {
     "name": "stdout",
     "output_type": "stream",
     "text": [
      "[[False False False]\n",
      " [False False  True]\n",
      " [False False  True]\n",
      " [False False  True]\n",
      " [False  True False]\n",
      " [False  True False]\n",
      " [False  True False]\n",
      " [False  True  True]\n",
      " [False  True  True]\n",
      " [False  True  True]\n",
      " [ True  True  True]\n",
      " [ True  True False]\n",
      " [ True  True False]\n",
      " [ True  True False]\n",
      " [ True False  True]\n",
      " [ True False  True]\n",
      " [ True False  True]\n",
      " [ True False False]\n",
      " [ True False False]\n",
      " [ True False False]]\n"
     ]
    }
   ],
   "source": [
    "first_3_F = sample_mf[:,:3]==f\n",
    "print(first_3_F)"
   ]
  },
  {
   "cell_type": "code",
   "execution_count": 114,
   "metadata": {},
   "outputs": [
    {
     "name": "stdout",
     "output_type": "stream",
     "text": [
      "[0 1 1 1 1 1 1 2 2 2 3 2 2 2 2 2 2 1 1 1]\n"
     ]
    }
   ],
   "source": [
    "num_F = np.sum(first_3_F,axis=1)\n",
    "print(num_F)"
   ]
  },
  {
   "cell_type": "code",
   "execution_count": 116,
   "metadata": {},
   "outputs": [
    {
     "name": "stdout",
     "output_type": "stream",
     "text": [
      "10\n"
     ]
    }
   ],
   "source": [
    "F_2plus = np.sum(num_F >= 2)\n",
    "print(F_2plus)"
   ]
  },
  {
   "cell_type": "code",
   "execution_count": 117,
   "metadata": {},
   "outputs": [
    {
     "name": "stdout",
     "output_type": "stream",
     "text": [
      "0.5\n"
     ]
    }
   ],
   "source": [
    "prob_F_2plus = F_2plus/len(sample_mf)\n",
    "print(prob_F_2plus)"
   ]
  },
  {
   "cell_type": "markdown",
   "metadata": {},
   "source": [
    "#### 2. Calculate the probability that after 4 appointment slots, all the female students have had an appointment"
   ]
  },
  {
   "cell_type": "code",
   "execution_count": 124,
   "metadata": {},
   "outputs": [
    {
     "name": "stdout",
     "output_type": "stream",
     "text": [
      "0.2\n"
     ]
    }
   ],
   "source": [
    "last_2_M = sample_mf[:,4:]==m\n",
    "num_M = np.sum(last_2_M,axis=1)\n",
    "all_M = np.sum(num_M == 2)\n",
    "prob_all_M_after4 = all_M/sample_length\n",
    "print(prob_all_M_after4)"
   ]
  },
  {
   "cell_type": "code",
   "execution_count": 125,
   "metadata": {},
   "outputs": [
    {
     "data": {
      "text/plain": [
       "0.2"
      ]
     },
     "execution_count": 125,
     "metadata": {},
     "output_type": "execute_result"
    }
   ],
   "source": [
    "#answer\n",
    "np.sum((sample_mf[:,4:]== [m,m]).all(axis=1))/sample_length"
   ]
  },
  {
   "cell_type": "markdown",
   "metadata": {},
   "source": [
    "You noticed that coming up with the sample space was probably the most time-consuming part of the exercise, and it would really become unfeasible to write this down for say, 10 or, even worse, 20 appointments in a row. You'll learn about methods that make this process easier soon!\n",
    "\n",
    "## The Addition Law of Probability\n",
    "At a supermarket, we randomly select customers, and make notes of whether a certain customer owns a Visa card (event A) or an American Express credit card (event B). Some customers own both cards.\n",
    "You can assume that:\n",
    "\n",
    "- P(A) = 0.5\n",
    "- P(B) = 0.4\n",
    "- both A and B = 0.25.\n",
    "\n",
    "1) Compute the probability that a selected customer has at least one credit card.\n",
    "\n",
    "2) Compute the probability that a selected customer doesn't own any of the mentioned credit cards.\n",
    "\n",
    "3) Compute the probability that a customer *only* owns VISA card.\n",
    "\n",
    "(You can use Python here, but you don't have to)\n",
    "\n"
   ]
  },
  {
   "cell_type": "code",
   "execution_count": 129,
   "metadata": {},
   "outputs": [
    {
     "name": "stdout",
     "output_type": "stream",
     "text": [
      "probability that a selected customer has at least one credit card is 0.65\n",
      "probability that a selected customer doesn't own any of the mentioned credit cards is 0.35\n",
      "probability that a customer only owns VISA card is 0.25\n"
     ]
    }
   ],
   "source": [
    "p_A = 0.5\n",
    "p_B = 0.4\n",
    "p_A_B = 0.25\n",
    "\n",
    "print(\"probability that a selected customer has at least one credit card is \"+str(p_A+p_B-p_A_B))\n",
    "print(\"probability that a selected customer doesn't own any of the mentioned \"\n",
    "      \"credit cards is \" +str(1-(p_A+p_B-p_A_B)))\n",
    "print(\"probability that a customer only owns VISA card is \"+str(p_A-p_A_B))"
   ]
  },
  {
   "cell_type": "markdown",
   "metadata": {},
   "source": [
    "## Summary\n",
    "\n",
    "In this lab, you got to practice your knowledge on the foundations of probability through working on problems regarding the law of relative frequency, the probability axioms, and the addition law of probability."
   ]
  }
 ],
 "metadata": {
  "kernelspec": {
   "display_name": "Python 3",
   "language": "python",
   "name": "python3"
  },
  "language_info": {
   "codemirror_mode": {
    "name": "ipython",
    "version": 3
   },
   "file_extension": ".py",
   "mimetype": "text/x-python",
   "name": "python",
   "nbconvert_exporter": "python",
   "pygments_lexer": "ipython3",
   "version": "3.6.9"
  },
  "toc": {
   "base_numbering": 1,
   "nav_menu": {},
   "number_sections": true,
   "sideBar": true,
   "skip_h1_title": false,
   "title_cell": "Table of Contents",
   "title_sidebar": "Contents",
   "toc_cell": false,
   "toc_position": {},
   "toc_section_display": true,
   "toc_window_display": false
  }
 },
 "nbformat": 4,
 "nbformat_minor": 2
}
